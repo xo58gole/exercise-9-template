{
  "cells": [
    {
      "cell_type": "markdown",
      "metadata": {
        "id": "view-in-github",
        "colab_type": "text"
      },
      "source": [
        "<a href=\"https://colab.research.google.com/github/xo58gole/exercise-9-template/blob/main/exercise-09.ipynb\" target=\"_parent\"><img src=\"https://colab.research.google.com/assets/colab-badge.svg\" alt=\"Open In Colab\"/></a>"
      ]
    },
    {
      "cell_type": "markdown",
      "metadata": {
        "id": "6fApPT0lh6Q4"
      },
      "source": [
        "<div class=\"alert-block alert-info alert\"> Hello! If this is your first assignment please read the following instructions:\n",
        "\n",
        "Read the questions carefully and code what is asked in the respective code block whenever you see a ``` #TODO: YOUR CODE HERE. ```\n",
        "It is important to do the Coding tasks IN ORDER, as the majority of coding blocks are dependent on the\n",
        "previous coding blocks in the notebook.\n",
        "Please also note that there is a **raise NotImplementedError()** for each task or function you have to\n",
        "implement, so don't forget to remove it before testing your code, otherwise you will always get a \"not\n",
        "implemented\" error.\n",
        "\n",
        "You need to install required python packages before executing your codes. Simply run the block below to install it in the Colab environment of your Google account. Rerun the block when you are not sure they are properly installed.\n",
        "\n",
        "You need to manually upload the data used in this exercise to Colab. Just create a folder 'data' and paste the respective files into this folder. Otherwise, you will get a 'File not found' error. You can find the data in StudOn.\n",
        "\n",
        "Aside from coding blocks, there are also testing blocks to check whether your implementations\n",
        "are correct, you can run them but do not change the code inside of them.\n",
        "The tests are determined via the ASSERT STATEMENTS that you see on the testing blocks, which can help you\n",
        "out during the coding of the exercises. If you pass all the visible asserts, you will probably get a good\n",
        "grade on the exercise, just remember that there are also hidden tests, so hardcoding the assert statements\n",
        "won't help you.\n",
        "\n",
        "REMEMBER: This Colab notebook DOES NOT HAVE AN AUTOSAVE FUNCTION, so whenever you want to close it, please\n",
        "remember to save it by clicking on the \"file\" tab in the upper left corner of the page, followed by\n",
        "clicking on the \"Save a copy to GitHub\" button and selecting your corresponding GitHub repository:\n",
        "\"madlab-biosig/exercise-x-YourGitHubUsername\"\n",
        "\n",
        "Before you save the final version of your assignment, please make sure everything runs as expected.\n",
        "First, **restart the kernel** (in the menubar, select Kernel$\\rightarrow$Restart) and then **run all\n",
        "cells** (in the menubar, select Cell$\\rightarrow$Run All).\n",
        "</div>"
      ]
    },
    {
      "cell_type": "code",
      "execution_count": null,
      "metadata": {
        "id": "oWg-wV5vh6Q9"
      },
      "outputs": [],
      "source": [
        "!pip install pandas scipy==1.10 h5py==3.9.0 seaborn==0.13.2 scikit-learn==1.3.0 ipywidgets ipympl"
      ]
    },
    {
      "cell_type": "code",
      "execution_count": null,
      "metadata": {
        "id": "JabL_FEKh6Q-"
      },
      "outputs": [],
      "source": [
        "from ipywidgets import Widget\n",
        "Widget.close_all()"
      ]
    },
    {
      "cell_type": "markdown",
      "metadata": {
        "tags": [],
        "id": "RVJHzui4h6Q-"
      },
      "source": [
        "### BioSig Exercises WS 24/25\n",
        "---"
      ]
    },
    {
      "cell_type": "markdown",
      "metadata": {
        "id": "gPpfrDqgh6Q-"
      },
      "source": [
        "# Exercise 09"
      ]
    },
    {
      "cell_type": "code",
      "execution_count": null,
      "metadata": {
        "tags": [],
        "id": "ywg1qlb0h6Q_"
      },
      "outputs": [],
      "source": [
        "# Imports and basic setup\n",
        "### UNCOMMENT THE CORRECT ONE\n",
        "# If you are using Jupyter Lab\n",
        "#matplotlib widget\n",
        "\n",
        "# If you are using Jupyter Notebook¶\n",
        "# %matplotlib notebook\n",
        "\n",
        "import matplotlib.pyplot as plt\n",
        "plt.rcParams.update({'figure.max_open_warning': 40})\n",
        "import pandas as pd\n",
        "import numpy as np\n"
      ]
    },
    {
      "cell_type": "code",
      "execution_count": null,
      "metadata": {
        "tags": [],
        "id": "eE6iBEETh6Q_"
      },
      "outputs": [],
      "source": [
        "from scipy import signal"
      ]
    },
    {
      "cell_type": "code",
      "execution_count": null,
      "metadata": {
        "tags": [],
        "id": "tDtlMOO6h6Q_"
      },
      "outputs": [],
      "source": [
        "def pole_zero_plot(b=None, a=None, sos=None, ax=None, print_pz=True):\n",
        "    from matplotlib import patches\n",
        "    if sos is not None:\n",
        "        zeros, poles, _ = signal.sos2zpk(sos)\n",
        "    else:\n",
        "        zeros, poles, _ = signal.tf2zpk(b, a)\n",
        "    if print_pz is True:\n",
        "        print(\"zeros:\\n\", zeros, \"\\npoles:\\n'\", poles)\n",
        "\n",
        "    # To visualize pole-zero plane: plot unit circle and x,y axis\n",
        "    if not ax:\n",
        "        plt.figure()\n",
        "        ax = plt.subplot(1, 1, 1)\n",
        "\n",
        "    # Check for duplicates poles or zeros\n",
        "    import collections\n",
        "    multi_pole = ((k, v) for k, v in collections.Counter(poles).items() if v > 1)\n",
        "    multi_zeros = ((k, v) for k, v in collections.Counter(zeros).items() if v > 1)\n",
        "\n",
        "    # plot circle\n",
        "    circ = patches.Circle((0, 0), radius=1, fill=False,\n",
        "                                 color='black', ls='solid', alpha=0.1)\n",
        "    ax.add_patch(circ)\n",
        "\n",
        "    #plot axis\n",
        "    ax.axhline(y=0, color='0.9')\n",
        "    ax.axvline(x=0, color='0.9')\n",
        "\n",
        "    # plot poles and zeros\n",
        "    ax.plot(zeros.real, zeros.imag, 'o', markersize=9, alpha=0.5)\n",
        "    ax.plot(poles.real, poles.imag, 'x', markersize=9, alpha=0.5)\n",
        "\n",
        "    # Add label for duplicates\n",
        "    import itertools\n",
        "    for pos, c in itertools.chain(multi_pole, multi_zeros):\n",
        "        ax.text(pos.real, pos.imag, c, fontsize=12)\n",
        "\n",
        "    ax.axis('scaled')\n",
        "    ax.axis([-1.5, 1.5, -1.5, 1.5])\n",
        "\n",
        "    ax.set_xlabel('Re')\n",
        "    ax.set_ylabel('Im')\n",
        "\n",
        "def plot_freq_response(b=None, a=None, sos=None, sampling_rate=None, log_y=True,create_new_fig=True, label=None, unwrap=True):\n",
        "    \"\"\"Plot the freq response of a window.\n",
        "\n",
        "    Args:\n",
        "        coef: The coefficients of the window\n",
        "        sampling_rate: The sampling rate of a potential signal to be filtered with the window\n",
        "        log_y: If True the y=axis will be in base 10 log.\n",
        "        create_new_fig: If True a new figure is created for the plot\n",
        "    \"\"\"\n",
        "    # Calculate the frequency response using scipy.signal.freqz\n",
        "    # Use the fs parameter to calculate the output relative to the sampling rate\n",
        "    if not sampling_rate:\n",
        "        sampling_rate = 2 * np.pi\n",
        "\n",
        "    if sos is not None:\n",
        "        w, h = signal.sosfreqz(sos, fs=sampling_rate)\n",
        "    else:\n",
        "        w, h = signal.freqz(b, a, fs=sampling_rate)\n",
        "\n",
        "    if create_new_fig:\n",
        "        plt.figure()\n",
        "    ax1 = plt.gca()\n",
        "\n",
        "    if log_y is True:\n",
        "        h_plot = 20 * np.log10(abs(h))\n",
        "        ax1.set_ylabel('Amplification [dB]', color='b')\n",
        "    else:\n",
        "        h_plot = abs(h)\n",
        "        ax1.set_ylabel('Amplification [no unit]', color='b')\n",
        "\n",
        "    ax1.plot(w, h_plot, 'b', label=label)\n",
        "    ax1.set_xlabel('Frequency [Hz]')\n",
        "    ax2 = ax1.twinx()\n",
        "    angles = np.angle(h)\n",
        "    angles = np.nan_to_num(angles)\n",
        "    if unwrap:\n",
        "        angles = np.unwrap(angles)\n",
        "    ax2.plot(w, angles, 'g', label=label)\n",
        "    ax2.set_ylabel('Angle (radians)', color='g')\n",
        "    ax2.grid()\n",
        "    ax2.axis('tight')"
      ]
    },
    {
      "cell_type": "markdown",
      "metadata": {
        "tags": [],
        "id": "y_0cl1_ph6RA"
      },
      "source": [
        "## Ex 9.1: SOS-Filtering\n",
        "\n",
        "In last exercise we learned that filters of high order can get numerically unstable.\n",
        "A solution is to split a high-order filter into multiple filters of a lower order.\n",
        "With SOS (second-order-section) filtering, we describe a higher order filter by filters of first or second order.\n",
        "\n",
        "a) Create a “medium-order” Butterworth filter once using the parameter `output=’ba’`. Plot the pole-zero plot and the magnitude response of the filter.\n",
        "\n",
        "b) Create the same filter using the parameter `output=’sos’`. Inspect the output. In how many sections was the filter divided?\n",
        "\n",
        "Based on the documentation:\n",
        "*Array of second-order filter coefficients, must have a shape (n_sections, 6). Each row corresponds to a second-order section, with the first three columns providing the numerator coefficients and the last three providing the denominator coefficients.*\n",
        "\n",
        "c) Plot the pole-zero-plots for each section and compare it to the original pole-zero-plot. Now, plot the magnitude response of each section and compare it.\n",
        "\n",
        "d) Increase the filter order until the simple filter gets unstable. Create an SOS-filter with the same order and compare the outputs in the z-plane and regarding the magnitude response."
      ]
    },
    {
      "cell_type": "code",
      "execution_count": null,
      "metadata": {
        "deletable": false,
        "nbgrader": {
          "cell_type": "code",
          "checksum": "0ae6ec2126f063155b2ca58ae3613b00",
          "grade": false,
          "grade_id": "cell-00f52cf9bc5637bc",
          "locked": false,
          "schema_version": 3,
          "solution": true,
          "task": false
        },
        "tags": [],
        "id": "VAtCCw7Kh6RA"
      },
      "outputs": [],
      "source": [
        "from scipy import signal\n",
        "\n",
        "N = 7\n",
        "Wn = 10  # Hz\n",
        "sampling_rate = 200  # Hz\n",
        "\n",
        "# Create a butterworth filter using the `ba` output. Name the filter coefficients as 'b' and 'a'.\n",
        "\n",
        "# YOUR CODE HERE\n",
        "# Parameters\n",
        "N = 7  # Filter order\n",
        "Wn = 10 / (sampling_rate / 2)  # Normalized cutoff frequency\n",
        "b, a = signal.butter(N, Wn, btype='low', analog=False, output='ba')\n",
        "\n",
        "\n",
        "\n",
        "# Plot the Pole-zero plot and the magnitude response. PLOTS ARE NOT GRADED!!\n",
        "# YOUR CODE HERE\n",
        "# Plot the pole-zero plot for the filter\n",
        "plt.figure()\n",
        "ax = plt.subplot(1, 1, 1)\n",
        "pole_zero_plot(b=b, a=a, ax=ax, print_pz=True)\n",
        "plt.title(\"Pole-Zero Plot (ba)\")\n",
        "\n",
        "# Plot the magnitude response\n",
        "plot_freq_response(b=b, a=a, sampling_rate=sampling_rate, label='Butterworth ba')\n",
        "plt.title(\"Frequency Response (ba)\")\n",
        "\n",
        "# b) Create the Butterworth filter using `output='sos'`\n",
        "sos = signal.butter(N, Wn, btype='low', analog=False, output='sos')\n",
        "\n",
        "# Inspect the SOS output\n",
        "print(\"SOS Coefficients:\\n\", sos)\n",
        "print(f\"The filter was divided into {sos.shape[0]} sections.\")\n",
        "\n",
        "# c) Plot the pole-zero plots and magnitude responses for each SOS section\n",
        "plt.figure()\n",
        "plt.title(\"Pole-Zero Plots (SOS Sections)\")\n",
        "for i, section in enumerate(sos):\n",
        "    section_b = section[:3]\n",
        "    section_a = section[3:]\n",
        "    ax = plt.subplot(1, sos.shape[0], i + 1)\n",
        "    pole_zero_plot(b=section_b, a=section_a, ax=ax, print_pz=False)\n",
        "    plt.title(f\"Section {i+1}\")\n",
        "\n",
        "plt.figure()\n",
        "plt.title(\"Frequency Response (SOS Sections)\")\n",
        "for i, section in enumerate(sos):\n",
        "    section_b = section[:3]\n",
        "    section_a = section[3:]\n",
        "    plot_freq_response(b=section_b, a=section_a, sampling_rate=sampling_rate, label=f\"Section {i+1}\", create_new_fig=False)\n",
        "\n",
        "# d) Increase the filter order until instability occurs in the ba filter\n",
        "N_high = 20  # High order filter\n",
        "try:\n",
        "    # Attempt to create a high-order filter using `ba`\n",
        "    b_high, a_high = signal.butter(N_high, Wn, btype='low', analog=False, output='ba')\n",
        "    # Plot the pole-zero plot and magnitude response\n",
        "    plt.figure()\n",
        "    ax = plt.subplot(1, 1, 1)\n",
        "    pole_zero_plot(b=b_high, a=a_high, ax=ax, print_pz=True)\n",
        "    plt.title(\"Pole-Zero Plot (High-Order ba)\")\n",
        "    plot_freq_response(b=b_high, a=a_high, sampling_rate=sampling_rate, label='High-Order ba')\n",
        "except Exception as e:\n",
        "    print(f\"High-order ba filter unstable: {e}\")\n",
        "\n",
        "# Create an SOS filter with the same high order\n",
        "sos_high = signal.butter(N_high, Wn, btype='low', analog=False, output='sos')\n",
        "print(\"High-Order SOS Coefficients:\\n\", sos_high)\n",
        "\n",
        "# Plot the SOS pole-zero plot and magnitude response\n",
        "plt.figure()\n",
        "plt.title(\"Pole-Zero Plot (High-Order SOS)\")\n",
        "for i, section in enumerate(sos_high):\n",
        "    section_b = section[:3]\n",
        "    section_a = section[3:]\n",
        "    ax = plt.subplot(1, sos_high.shape[0], i + 1)\n",
        "    pole_zero_plot(b=section_b, a=section_a, ax=ax, print_pz=False)\n",
        "    plt.title(f\"Section {i+1}\")\n",
        "\n",
        "plt.figure()\n",
        "plt.title(\"Frequency Response (High-Order SOS Sections)\")\n",
        "for i, section in enumerate(sos_high):\n",
        "    section_b = section[:3]\n",
        "    section_a = section[3:]\n",
        "    plot_freq_response(b=section_b, a=section_a, sampling_rate=sampling_rate, label=f\"High-Order Section {i+1}\", create_new_fig=False)\n",
        "\n",
        "# Final combined magnitude response of the high-order SOS filter\n",
        "plot_freq_response(sos=sos_high, sampling_rate=sampling_rate, label='High-Order SOS', create_new_fig=True)\n",
        "plt.title(\"Combined Frequency Response (High-Order SOS)\")\n",
        "\n"
      ]
    },
    {
      "cell_type": "code",
      "execution_count": null,
      "metadata": {
        "deletable": false,
        "editable": false,
        "nbgrader": {
          "cell_type": "code",
          "checksum": "1c0b03702364ddc036da3a230241a56d",
          "grade": true,
          "grade_id": "cell-b0789b1baeb1b261",
          "locked": true,
          "points": 2,
          "schema_version": 3,
          "solution": false,
          "task": false
        },
        "tags": [],
        "id": "wVk3WD-_h6RA"
      },
      "outputs": [],
      "source": [
        "##~DO NOT MODIFY THE LINES OF CODE IN THIS BLOCK\n",
        "\n",
        "assert isinstance(b[0], np.float64), 'The datatype for filter coefficients is not correct'#data type assertion\n",
        "assert abs(sum(b[0:2])-9.837199098515841e-06)< 1e-9, 'The first or second coefficient for b is wrong'\n",
        "assert abs(sum(b[2:4])-6.886039368961089e-05)< 1e-9, 'The third or fourth coefficient for b is wrong'\n",
        "assert abs(sum(b[0:3] - [9.22964989e-06, 8.60754921e-06, 2.58226476e-05])) < 1e-3, 'The first three coefficients are wrong.'\n",
        "print('The first three coefficients are correct!')\n"
      ]
    },
    {
      "cell_type": "code",
      "execution_count": null,
      "metadata": {
        "deletable": false,
        "nbgrader": {
          "cell_type": "code",
          "checksum": "a758a31a4bb275eed89e9bf9cbd6a39d",
          "grade": false,
          "grade_id": "cell-bb92de15094d2df1",
          "locked": false,
          "schema_version": 3,
          "solution": true,
          "task": false
        },
        "tags": [],
        "id": "b9O3hvxph6RA"
      },
      "outputs": [],
      "source": [
        "# Create the same filter using `sos` output. Name to sos filter coefficients as 'sos'\n",
        "# YOUR CODE HERE\n",
        "# Create the Butterworth filter using `output='sos'`\n",
        "sos = signal.butter(N, Wn, btype='low', analog=False, output='sos')\n",
        "\n",
        "# Inspect the output\n",
        "# YOUR CODE HERE\n",
        "print(\"SOS Coefficients:\\n\", sos)\n",
        "print(f\"The filter was divided into {sos.shape[0]} sections.\")\n",
        "\n",
        "\n"
      ]
    },
    {
      "cell_type": "code",
      "execution_count": null,
      "metadata": {
        "deletable": false,
        "editable": false,
        "nbgrader": {
          "cell_type": "code",
          "checksum": "abba6fef496fb94153b88c0c4df2623b",
          "grade": true,
          "grade_id": "cell-d0fab2f5ec637a13",
          "locked": true,
          "points": 2,
          "schema_version": 3,
          "solution": false,
          "task": false
        },
        "tags": [],
        "id": "Psjyw74Ph6RB"
      },
      "outputs": [],
      "source": [
        "##~DO NOT MODIFY THE LINES OF CODE IN THIS BLOCK\n",
        "\n",
        "assert isinstance(sos[0,1], np.float64), 'The datatype for filter coefficients is not correct'#data type assertion\n",
        "assert abs(sum(sos[0][0:3] - [1.22964989e-06, 2.45929977e-06, 1.22964989e-06])) < 1e-3, 'Three coefficients of the sos filter are wrong.'\n",
        "print('Three coefficients of the sos filter are correct!')\n"
      ]
    },
    {
      "cell_type": "code",
      "execution_count": null,
      "metadata": {
        "deletable": false,
        "nbgrader": {
          "cell_type": "code",
          "checksum": "612cfa39d59dba5721a0b5023eea588f",
          "grade": true,
          "grade_id": "cell-99b8de2b14ff0081",
          "locked": false,
          "points": 0,
          "schema_version": 3,
          "solution": true,
          "task": false
        },
        "tags": [],
        "id": "kliX2N9vh6RB"
      },
      "outputs": [],
      "source": [
        "# Plot the pole-zero plot for each SOS section\n",
        "plt.figure()\n",
        "plt.title(\"Pole-Zero Plots for SOS Sections\")\n",
        "for i, section in enumerate(sos):\n",
        "    section_b = section[:3]\n",
        "    section_a = section[3:]\n",
        "    ax = plt.subplot(1, sos.shape[0], i + 1)\n",
        "    pole_zero_plot(b=section_b, a=section_a, ax=ax, print_pz=False)\n",
        "    plt.title(f\"Section {i+1}\")\n",
        "plt.tight_layout()\n",
        "\n",
        "# Plot the magnitude response of each SOS section\n",
        "plt.figure()\n",
        "plt.title(\"Frequency Response of SOS Sections\")\n",
        "for i, section in enumerate(sos):\n",
        "    section_b = section[:3]\n",
        "    section_a = section[3:]\n",
        "    plot_freq_response(b=section_b, a=section_a, sampling_rate=sampling_rate, label=f\"Section {i+1}\", create_new_fig=False)\n",
        "plt.legend()\n"
      ]
    },
    {
      "cell_type": "code",
      "execution_count": null,
      "metadata": {
        "deletable": false,
        "nbgrader": {
          "cell_type": "code",
          "checksum": "fddd465e1cfa68640a07b2c1abbaaef6",
          "grade": false,
          "grade_id": "cell-70dd22627e2a756b",
          "locked": false,
          "schema_version": 3,
          "solution": true,
          "task": false
        },
        "tags": [],
        "id": "c31cKuqfh6RB"
      },
      "outputs": [],
      "source": [
        "# Find a filter order N, where the traditional filter becomes unstable.\n",
        "# Than repeat the analysis above using this N. Name the variable for filter order as 'N'.\n",
        "# YOUR CODE HERE\n",
        "# Start with a high order and decrease until the ba filter is stable\n",
        "N = 50  # Initial high order\n",
        "Wn = 10 / (sampling_rate / 2)  # Normalized cutoff frequency\n",
        "\n",
        "while N > 0:\n",
        "    try:\n",
        "        # Try to create a Butterworth filter using the 'ba' method\n",
        "        b, a = signal.butter(N, Wn, btype='low', analog=False, output='ba')\n",
        "        # Check stability by examining poles (all must lie inside the unit circle)\n",
        "        poles = np.roots(a)\n",
        "        if np.all(np.abs(poles) < 1):\n",
        "            break  # Filter is stable; exit the loop\n",
        "    except Exception as e:\n",
        "        pass  # Continue if unstable\n",
        "    N -= 1  # Reduce the filter order\n",
        "\n",
        "print(f\"Found stable filter order: {N}\")\n",
        "\n",
        "# Perform the same analysis for the found filter order using the SOS method\n",
        "sos = signal.butter(N, Wn, btype='low', analog=False, output='sos')\n",
        "\n",
        "# Plot the pole-zero plot for each SOS section\n",
        "plt.figure()\n",
        "plt.title(\"Pole-Zero Plots for SOS Sections (High-Order)\")\n",
        "for i, section in enumerate(sos):\n",
        "    section_b = section[:3]\n",
        "    section_a = section[3:]\n",
        "    ax = plt.subplot(1, sos.shape[0], i + 1)\n",
        "    pole_zero_plot(b=section_b, a=section_a, ax=ax, print_pz=False)\n",
        "    plt.title(f\"Section {i+1}\")\n",
        "plt.tight_layout()\n",
        "\n",
        "# Plot the magnitude response for each SOS section\n",
        "plt.figure()\n",
        "plt.title(\"Frequency Response of SOS Sections (High-Order)\")\n",
        "for i, section in enumerate(sos):\n",
        "    section_b = section[:3]\n",
        "    section_a = section[3:]\n",
        "    plot_freq_response(b=section_b, a=section_a, sampling_rate=sampling_rate, label=f\"Section {i+1}\", create_new_fig=False)\n",
        "plt.legend()\n",
        "\n",
        "# Combined magnitude response of the high-order SOS filter\n",
        "plot_freq_response(sos=sos, sampling_rate=sampling_rate, label='High-Order SOS', create_new_fig=True)\n",
        "plt.title(\"Combined Frequency Response (High-Order SOS)\")"
      ]
    },
    {
      "cell_type": "code",
      "execution_count": null,
      "metadata": {
        "deletable": false,
        "editable": false,
        "nbgrader": {
          "cell_type": "code",
          "checksum": "31ffde9817b9117f0171d0f4edae95dc",
          "grade": true,
          "grade_id": "cell-9de1397510c2a6eb",
          "locked": true,
          "points": 1,
          "schema_version": 3,
          "solution": false,
          "task": false
        },
        "tags": [],
        "id": "BzgctejFh6RB"
      },
      "outputs": [],
      "source": [
        "##~DO NOT MODIFY THE LINES OF CODE IN THIS BLOCK\n",
        "\n",
        "# Block for the hidden tests. This block can be skipped."
      ]
    },
    {
      "cell_type": "code",
      "execution_count": null,
      "metadata": {
        "deletable": false,
        "nbgrader": {
          "cell_type": "code",
          "checksum": "e50869c286389a25ebed15354feaf0d6",
          "grade": true,
          "grade_id": "cell-9b1c77525cb8a58f",
          "locked": false,
          "points": 0,
          "schema_version": 3,
          "solution": true,
          "task": false
        },
        "tags": [],
        "id": "howH1EUFh6RB"
      },
      "outputs": [],
      "source": [
        "# Recreate the unstable filter as SOS\n",
        "# Using the last found unstable filter order N+1 (where the ba filter fails)\n",
        "unstable_N = N + 1  # Incrementing to use the unstable order\n",
        "sos_unstable = signal.butter(unstable_N, Wn, btype='low', analog=False, output='sos')\n",
        "\n",
        "# Plot the pole-zero plot for the unstable SOS filter\n",
        "plt.figure()\n",
        "pole_zero_plot(sos=sos_unstable)\n",
        "plt.title(f\"Pole-Zero Plot (Unstable Filter, N={unstable_N})\")\n",
        "\n",
        "# Plot the frequency response for the unstable SOS filter\n",
        "plot_freq_response(sos=sos_unstable, sampling_rate=sampling_rate, label=f\"Unstable SOS (N={unstable_N})\")\n",
        "plt.title(f\"Frequency Response (Unstable Filter, N={unstable_N})\")\n"
      ]
    },
    {
      "cell_type": "markdown",
      "metadata": {
        "tags": [],
        "id": "RV4ePMi9h6RC"
      },
      "source": [
        "## Ex 9.2: Pan-Tompkins 1\n",
        "\n",
        "The Pan-Tompkins algorithm is the most famous algorithm for detecting QRS complexes in ECG signals.\n",
        "In the following we will implement the filter part of the Pan-Tompkins and apply it some ECG data that was recorded during the measurement exercise last year.\n",
        "\n",
        "Use the lecture as reference for all parts of the filter cascade.\n",
        "\n",
        "a) Implement the low-pass and high-pass component of the band-pass filter and apply it to the test data\n",
        "\n",
        "b) Implement the differentiator and apply it to the test data\n",
        "\n",
        "c) Square your test data\n",
        "\n",
        "d) Implement the moving window integrator and apply it to the test signal\n",
        "\n",
        "\n",
        "At every step you can use a pole-zero-plot to verify your implementation."
      ]
    },
    {
      "cell_type": "code",
      "execution_count": null,
      "metadata": {
        "tags": [],
        "id": "WbU8YbKoh6RC"
      },
      "outputs": [],
      "source": [
        "# Load one of the data files and extract the exg column\n",
        "path = '.data/example_ecg.csv'\n",
        "orig_sampling_rate = 256.  # Hz\n",
        "pan_sampling_rate = 200.  # Hz\n",
        "\n",
        "ecg = pd.read_csv(path, header=1, skiprows=0, index_col='timestamp')['ecg']\n",
        "\n",
        "# resample the data to 200 Hz for the algorithms\n",
        "ecg = pd.Series(signal.resample(ecg, int(len(ecg) * pan_sampling_rate/orig_sampling_rate)))\n",
        "ecg.index /= pan_sampling_rate\n",
        "\n",
        "# For visualisation and testing select part of the signal\n",
        "ecg_part = ecg.loc[150:170]\n",
        "\n",
        "plt.figure()\n",
        "ecg_part.plot()\n",
        "plt.xlabel('time [s]');"
      ]
    },
    {
      "cell_type": "markdown",
      "metadata": {
        "tags": [],
        "id": "bO6wn4_7h6RC"
      },
      "source": [
        "### Bandpass Filter Part 1: Low-pass"
      ]
    },
    {
      "cell_type": "markdown",
      "metadata": {
        "tags": [],
        "id": "bQbSSlBoh6RC"
      },
      "source": [
        "### Hint:\n",
        "\n",
        "From the lecture we know that the used low-pass filter has the following transfer function:\n",
        "\n",
        "$y(n) = 2\\cdot y(n-1) - y(n-2) + \\frac{1}{32} \\cdot (x(n) - 2\\cdot x(n-6) + x(n-12))$\n",
        "\n",
        "this leads to a transfer function of:\n",
        "\n",
        "$H(z) = ...$\n",
        "\n",
        "and finally to the following coefficients:\n",
        "\n",
        "```\n",
        "a_lowpass = [...]\n",
        "b_lowpass = [...]\n",
        "```"
      ]
    },
    {
      "cell_type": "code",
      "execution_count": null,
      "metadata": {
        "deletable": false,
        "nbgrader": {
          "cell_type": "code",
          "checksum": "5adfc790409ad25e44467608ae55a0cb",
          "grade": false,
          "grade_id": "cell-c694c171d3ecd36b",
          "locked": false,
          "schema_version": 3,
          "solution": true,
          "task": false
        },
        "tags": [],
        "id": "jt8kGoVIh6RC"
      },
      "outputs": [],
      "source": [
        "# Design the filter based on the transfer function given in the lecture\n",
        "# and produce a pole-zero and a magnitude response plot, POLE ZERO PLOTS ARE NOT GRADED!!\n",
        "# Store the filter coefficients in 'b_lowpass' and 'a_lowpass'\n",
        "# YOUR CODE HERE\n",
        "raise NotImplementedError()"
      ]
    },
    {
      "cell_type": "code",
      "execution_count": null,
      "metadata": {
        "deletable": false,
        "editable": false,
        "nbgrader": {
          "cell_type": "code",
          "checksum": "8cabd3f418347aae1ec6ac3a024ff0b9",
          "grade": true,
          "grade_id": "cell-2b21a1e35857e25a",
          "locked": true,
          "points": 4,
          "schema_version": 3,
          "solution": false,
          "task": false
        },
        "tags": [],
        "id": "8ltGTKYjh6RD"
      },
      "outputs": [],
      "source": [
        "##~DO NOT MODIFY THE LINES OF CODE IN THIS BLOCK\n",
        "\n",
        "assert isinstance(b_lowpass[0], np.float64), 'The datatype for filter coefficients is not correct, it should be numpy.float64'#data type assertion\n",
        "\n",
        "assert b_lowpass[12] == 1. / 32, 'The last coefficient of b of the lowpass filter is wrong.'\n",
        "assert a_lowpass[2] == 1.0, 'The last coefficient of a of the lowpass filter is wrong.'\n",
        "print('The last coefficients of a and b of the lowpass filter are correct')\n"
      ]
    },
    {
      "cell_type": "code",
      "execution_count": null,
      "metadata": {
        "deletable": false,
        "nbgrader": {
          "cell_type": "code",
          "checksum": "1cc815e2de6f8036e79594f6c8aad46e",
          "grade": false,
          "grade_id": "cell-00c43e320e45014b",
          "locked": false,
          "schema_version": 3,
          "solution": true,
          "task": false
        },
        "tags": [],
        "id": "djz2J0prh6RD"
      },
      "outputs": [],
      "source": [
        "# Filter the ECG sample with the lowpass filter\n",
        "# Store the filtered signal in variable 'data_lp'\n",
        "# YOUR CODE HERE\n",
        "raise NotImplementedError()"
      ]
    },
    {
      "cell_type": "code",
      "execution_count": null,
      "metadata": {
        "deletable": false,
        "editable": false,
        "nbgrader": {
          "cell_type": "code",
          "checksum": "195cca0d7b33a62412631defb63ea6f6",
          "grade": true,
          "grade_id": "cell-0f292a7b15044df6",
          "locked": true,
          "points": 2,
          "schema_version": 3,
          "solution": false,
          "task": false
        },
        "tags": [],
        "id": "N_Ph6Qb8h6RD"
      },
      "outputs": [],
      "source": [
        "##~DO NOT MODIFY THE LINES OF CODE IN THIS BLOCK\n",
        "\n",
        "assert abs(sum(data_lp[0:2000])  + 260430.375538306) < 1e-3, 'Samples from the first half of the lowpass filtered signal is wrong'\n",
        "print('Samples from the first half of the lowpass filtered signal is correct')\n"
      ]
    },
    {
      "cell_type": "markdown",
      "metadata": {
        "tags": [],
        "id": "C_yl6VZ3h6RD"
      },
      "source": [
        "### Bandpass Filter Part 2: High-pass"
      ]
    },
    {
      "cell_type": "markdown",
      "metadata": {
        "tags": [],
        "id": "TQs2AljKh6RE"
      },
      "source": [
        "### Hint:\n",
        "\n",
        "From the lecture we know that the high-pass can be described by combining an all-pass with a low-pass filer.\n",
        "The following function describes the low-pass component:\n",
        "\n",
        "$y_{lp}(n) = y_{lp}(n-1) + x(n) - x(n-32)$\n",
        "\n",
        "From this we can calculate the transfer function:\n",
        "\n",
        "$H_{lp}(z) = ...$\n",
        "\n",
        "When we substitute this into the overall transfer function, we got from the lecture, we get:\n",
        "\n",
        "$H_{hp}(z) = ...$\n",
        "\n",
        "And finally, the parameters:\n",
        "\n",
        "```\n",
        "a_highpass = [...]\n",
        "b_highpass = [...]\n",
        "```"
      ]
    },
    {
      "cell_type": "code",
      "execution_count": null,
      "metadata": {
        "deletable": false,
        "nbgrader": {
          "cell_type": "code",
          "checksum": "219072291ef4e0ff1f56aeee11d19f8f",
          "grade": false,
          "grade_id": "cell-234e3b8de935d838",
          "locked": false,
          "schema_version": 3,
          "solution": true,
          "task": false
        },
        "tags": [],
        "id": "_FUszwIIh6RE"
      },
      "outputs": [],
      "source": [
        "# Design the filter based on the transfer function given in the lecture\n",
        "# and produce a pole-zero and a magnitude response plot, PLOTS ARE NOT GRADED!!\n",
        "# Store the filter coefficients in 'b_highpass' and 'a_highpass'\n",
        "\n",
        "# YOUR CODE HERE\n",
        "raise NotImplementedError()"
      ]
    },
    {
      "cell_type": "code",
      "execution_count": null,
      "metadata": {
        "deletable": false,
        "editable": false,
        "nbgrader": {
          "cell_type": "code",
          "checksum": "e20183d6fd55f1211a8c2f90faa06103",
          "grade": true,
          "grade_id": "cell-b95221a7720b4117",
          "locked": true,
          "points": 4,
          "schema_version": 3,
          "solution": false,
          "task": false
        },
        "tags": [],
        "id": "AkwxOwz-h6RE"
      },
      "outputs": [],
      "source": [
        "##~DO NOT MODIFY THE LINES OF CODE IN THIS BLOCK\n",
        "\n",
        "assert isinstance(b_highpass[0], np.float64), 'The datatype for filter coefficients is not correct, it should be numpy.float64'#data type assertion\n",
        "assert b_highpass[32] == 1 / 32, 'The last coefficient of b of the highpass filter is wrong.'\n",
        "assert a_highpass[1] == -1, 'The last coefficient of a of the highpass filter is wrong.'\n",
        "print('The last coefficients of a and b of the highpass filter are correct')\n",
        "\n"
      ]
    },
    {
      "cell_type": "code",
      "execution_count": null,
      "metadata": {
        "deletable": false,
        "nbgrader": {
          "cell_type": "code",
          "checksum": "0c91c5a18ff7877b1696363077d011e3",
          "grade": false,
          "grade_id": "cell-ee33d0c6d50ccd97",
          "locked": false,
          "schema_version": 3,
          "solution": true,
          "task": false
        },
        "tags": [],
        "id": "bO5Dnwxwh6RE"
      },
      "outputs": [],
      "source": [
        "# Apply the filter to the already lowpassed filter data and plot the result, PLOTS ARE NOT GRADED!!\n",
        "# Store the filtered signal in variable 'data_hp'\n",
        "# YOUR CODE HERE\n",
        "raise NotImplementedError()"
      ]
    },
    {
      "cell_type": "code",
      "execution_count": null,
      "metadata": {
        "deletable": false,
        "editable": false,
        "nbgrader": {
          "cell_type": "code",
          "checksum": "69f51e5b1ae41678634971e4281ddd45",
          "grade": true,
          "grade_id": "cell-d5ce001a495ffe46",
          "locked": true,
          "points": 2,
          "schema_version": 3,
          "solution": false,
          "task": false
        },
        "tags": [],
        "id": "zkhpXYJVh6RE"
      },
      "outputs": [],
      "source": [
        "##~DO NOT MODIFY THE LINES OF CODE IN THIS BLOCK\n",
        "\n",
        "assert isinstance(data_hp[0], np.float64), 'The datatype for filter coefficients is not correct, it should be numpy.float64'#data type assertion\n",
        "assert abs(sum(data_hp[0:2000]) + 1457.7448013744804) < 1e-3, 'Samples from the first half of the highpass filtered signal is wrong'\n",
        "print('Samples from the first half of the highpass filtered signal is correct')\n",
        "\n"
      ]
    },
    {
      "cell_type": "markdown",
      "metadata": {
        "tags": [],
        "id": "85--r6u3h6RE"
      },
      "source": [
        "### Derivative Operator"
      ]
    },
    {
      "cell_type": "markdown",
      "metadata": {
        "tags": [],
        "id": "nfzDjmGBh6RE"
      },
      "source": [
        "### Solution:\n",
        "\n",
        "From the lecture we know that the derivative operator can be described by the following equation:\n",
        "\n",
        "$y(n) = \\frac{1}{8}\\left[2x(n)+x(n-1)-x(n-3)-2x(n-4)\\right]$\n",
        "\n",
        "From this we can calculate the transfer function:\n",
        "\n",
        "$H(z) = ...$\n",
        "\n",
        "And finally, the parameters:\n",
        "\n",
        "```\n",
        "a_diff = [...]\n",
        "b_diff = [...]\n",
        "```"
      ]
    },
    {
      "cell_type": "code",
      "execution_count": null,
      "metadata": {
        "deletable": false,
        "nbgrader": {
          "cell_type": "code",
          "checksum": "600056393184d3065565831da0814d0b",
          "grade": false,
          "grade_id": "cell-a927737702f01db2",
          "locked": false,
          "schema_version": 3,
          "solution": true,
          "task": false
        },
        "tags": [],
        "id": "mLu4UGkah6RE"
      },
      "outputs": [],
      "source": [
        "# Design the filter based on the transfer function given in the lecture\n",
        "# and produce a pole-zero and a magnitude response plot\n",
        "# Store the filter coefficients in 'b_diff' and 'a_diff'\n",
        "\n",
        "# YOUR CODE HERE\n",
        "raise NotImplementedError()"
      ]
    },
    {
      "cell_type": "code",
      "execution_count": null,
      "metadata": {
        "deletable": false,
        "editable": false,
        "nbgrader": {
          "cell_type": "code",
          "checksum": "41b0325c9294995e8e6c69f28b50340b",
          "grade": true,
          "grade_id": "cell-66056e6ce5b10be7",
          "locked": true,
          "points": 4,
          "schema_version": 3,
          "solution": false,
          "task": false
        },
        "tags": [],
        "id": "yQIGKpmxh6RE"
      },
      "outputs": [],
      "source": [
        "##~DO NOT MODIFY THE LINES OF CODE IN THIS BLOCK\n",
        "\n",
        "assert isinstance(a_diff[0], np.float64), 'The datatype for filter coefficients is not correct, it should be numpy.float64'#data type assertion\n",
        "assert isinstance(b_diff[0], np.float64), 'The datatype for filter coefficients is not correct, it should be numpy.float64'#data type assertion\n",
        "assert a_diff[4] == 0, 'The last coefficient of a of the derivative operator is wrong.'\n",
        "assert b_diff[4] == -1./4, 'The last coefficient of b of the derivative operator is wrong.'\n",
        "print('The last coefficients of a and b of the derivative operator is correct.')\n",
        "\n"
      ]
    },
    {
      "cell_type": "code",
      "execution_count": null,
      "metadata": {
        "deletable": false,
        "nbgrader": {
          "cell_type": "code",
          "checksum": "7edc64795a5647e849c25b5a29b1774c",
          "grade": false,
          "grade_id": "cell-ec5cb87994fa1093",
          "locked": false,
          "schema_version": 3,
          "solution": true,
          "task": false
        },
        "tags": [],
        "id": "LpogoUm0h6RE"
      },
      "outputs": [],
      "source": [
        "# Apply the filter to the already bandpassed filter data and plot the result, PLOTS ARE NOT GRADED!!\n",
        "# Store the filtered signal in variable 'data_diff'\n",
        "\n",
        "# YOUR CODE HERE\n",
        "raise NotImplementedError()"
      ]
    },
    {
      "cell_type": "code",
      "execution_count": null,
      "metadata": {
        "deletable": false,
        "editable": false,
        "nbgrader": {
          "cell_type": "code",
          "checksum": "0d48959986b98fedb86ee3cf6472057f",
          "grade": true,
          "grade_id": "cell-58980b6b166ba8c3",
          "locked": true,
          "points": 2,
          "schema_version": 3,
          "solution": false,
          "task": false
        },
        "tags": [],
        "id": "LpXQ6Wfyh6RE"
      },
      "outputs": [],
      "source": [
        "##~DO NOT MODIFY THE LINES OF CODE IN THIS BLOCK\n",
        "\n",
        "assert abs(sum(data_diff[0:2000]) + 189.16038490248738) < 1e-3, 'Samples from the first half of the signal after the derivative operator is wrong'\n",
        "print('Samples from the first half of the signal after the derivative operator is correct')\n",
        "\n"
      ]
    },
    {
      "cell_type": "markdown",
      "metadata": {
        "id": "Hhw6SF2Jh6RF"
      },
      "source": [
        "### Squaring"
      ]
    },
    {
      "cell_type": "code",
      "execution_count": null,
      "metadata": {
        "deletable": false,
        "nbgrader": {
          "cell_type": "code",
          "checksum": "c724f175b8a970d91551a93b2550ec9d",
          "grade": false,
          "grade_id": "cell-300145a43c8ba1e3",
          "locked": false,
          "schema_version": 3,
          "solution": true,
          "task": false
        },
        "tags": [],
        "id": "PL2mW8Amh6RF"
      },
      "outputs": [],
      "source": [
        "# Square the signal and plot the result\n",
        "# Store the squared signal in variable 'data_sq'\n",
        "# YOUR CODE HERE\n",
        "raise NotImplementedError()"
      ]
    },
    {
      "cell_type": "code",
      "execution_count": null,
      "metadata": {
        "deletable": false,
        "editable": false,
        "nbgrader": {
          "cell_type": "code",
          "checksum": "c905717fcf085a7e4f1da08ccd398cc3",
          "grade": true,
          "grade_id": "cell-0a446e8b2224a626",
          "locked": true,
          "points": 1,
          "schema_version": 3,
          "solution": false,
          "task": false
        },
        "tags": [],
        "id": "Uxz55A9ph6RF"
      },
      "outputs": [],
      "source": [
        "##~DO NOT MODIFY THE LINES OF CODE IN THIS BLOCK\n",
        "\n",
        "assert abs(sum(data_sq) - 240206591.26385316) < 1e-3, 'Samples from the first half of the squared signal is wrong'\n"
      ]
    },
    {
      "cell_type": "markdown",
      "metadata": {
        "id": "JwyoDxbDh6RF"
      },
      "source": [
        "### Moving Window Integrator"
      ]
    },
    {
      "cell_type": "markdown",
      "metadata": {
        "id": "kRJvwDLPh6RF"
      },
      "source": [
        "### Hint:\n",
        "\n",
        "From the lecture we know the transfer function:\n",
        "\n",
        "$y(n) = \\frac{1}{30}\\left[x(n-29) + x(n-28) + ... +x(n)\\right]$\n",
        "\n",
        "From this we can calculate the transfer function:\n",
        "\n",
        "$H(z) = ...$\n",
        "\n",
        "And finally, we can read of the parameters:\n",
        "\n",
        "```\n",
        "a = [...]\n",
        "b = [...]\n",
        "```"
      ]
    },
    {
      "cell_type": "code",
      "execution_count": null,
      "metadata": {
        "deletable": false,
        "nbgrader": {
          "cell_type": "code",
          "checksum": "920cc4852b923894a61d6939402ec684",
          "grade": false,
          "grade_id": "cell-f7e51273713153f1",
          "locked": false,
          "schema_version": 3,
          "solution": true,
          "task": false
        },
        "tags": [],
        "id": "ErGsQjtGh6RF"
      },
      "outputs": [],
      "source": [
        "# Design the filter based on the transfer function given in the lecture\n",
        "# and produce a pole-zero and a magnitude response plot, PLOTS ARE NOT GRADED!!\n",
        "# Store the filter coefficients in 'b_int' and 'a_int'\n",
        "# YOUR CODE HERE\n",
        "raise NotImplementedError()"
      ]
    },
    {
      "cell_type": "code",
      "execution_count": null,
      "metadata": {
        "deletable": false,
        "editable": false,
        "nbgrader": {
          "cell_type": "code",
          "checksum": "db576e9c486fa3814d61a6a7e75d1606",
          "grade": true,
          "grade_id": "cell-d1479b9704a7af36",
          "locked": true,
          "points": 4,
          "schema_version": 3,
          "solution": false,
          "task": false
        },
        "tags": [],
        "id": "c7lcSNiBh6RF"
      },
      "outputs": [],
      "source": [
        "##~DO NOT MODIFY THE LINES OF CODE IN THIS BLOCK\n",
        "\n",
        "assert a_int[29] == 0, 'The last coefficient of a of the moving window integrator is wrong.'\n",
        "assert b_int[29] == 1/30, 'The last coefficient of b of the moving window integrator is wrong.'\n",
        "print('The last coefficients of a and b of the moving window integrator are correct.')\n"
      ]
    },
    {
      "cell_type": "code",
      "execution_count": null,
      "metadata": {
        "deletable": false,
        "nbgrader": {
          "cell_type": "code",
          "checksum": "295b7c6b7a95bfc11456e0db62075b86",
          "grade": false,
          "grade_id": "cell-e70f37704850727f",
          "locked": false,
          "schema_version": 3,
          "solution": true,
          "task": false
        },
        "tags": [],
        "id": "367AQEruh6RF"
      },
      "outputs": [],
      "source": [
        "# Apply the filter to the sqaured data and plot the result, PLOTS ARE NOT GRADED!!\n",
        "# Store the filtered signal in variable 'data_final'\n",
        "\n",
        "# YOUR CODE HERE\n",
        "raise NotImplementedError()"
      ]
    },
    {
      "cell_type": "code",
      "execution_count": null,
      "metadata": {
        "deletable": false,
        "editable": false,
        "nbgrader": {
          "cell_type": "code",
          "checksum": "0059ed383bdbdac6ce8ce793623ff4ec",
          "grade": true,
          "grade_id": "cell-79dc0420c8b4c233",
          "locked": true,
          "points": 2,
          "schema_version": 3,
          "solution": false,
          "task": false
        },
        "tags": [],
        "id": "nDDBHUO5h6RF"
      },
      "outputs": [],
      "source": [
        "##~DO NOT MODIFY THE LINES OF CODE IN THIS BLOCK\n",
        "\n",
        "assert abs(sum(data_final[0:2000]) - 125808438.65881383) < 1e-3, 'Samples from the first half of the signal after the moving window integrator is wrong'\n",
        "print('Samples from the first half of the signal after the moving window integrator is correct')\n"
      ]
    }
  ],
  "metadata": {
    "kernelspec": {
      "display_name": "Python 3 (ipykernel)",
      "language": "python",
      "name": "python3"
    },
    "language_info": {
      "codemirror_mode": {
        "name": "ipython",
        "version": 3
      },
      "file_extension": ".py",
      "mimetype": "text/x-python",
      "name": "python",
      "nbconvert_exporter": "python",
      "pygments_lexer": "ipython3",
      "version": "3.9.13"
    },
    "colab": {
      "provenance": [],
      "private_outputs": true,
      "toc_visible": true,
      "include_colab_link": true
    }
  },
  "nbformat": 4,
  "nbformat_minor": 0
}